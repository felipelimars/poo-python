{
  "nbformat": 4,
  "nbformat_minor": 0,
  "metadata": {
    "colab": {
      "provenance": [],
      "authorship_tag": "ABX9TyNlY0dC0LWf+WZVlg6NYHwg",
      "include_colab_link": true
    },
    "kernelspec": {
      "name": "python3",
      "display_name": "Python 3"
    },
    "language_info": {
      "name": "python"
    }
  },
  "cells": [
    {
      "cell_type": "markdown",
      "metadata": {
        "id": "view-in-github",
        "colab_type": "text"
      },
      "source": [
        "<a href=\"https://colab.research.google.com/github/felipelimars/poo-python/blob/main/poo_python2.ipynb\" target=\"_parent\"><img src=\"https://colab.research.google.com/assets/colab-badge.svg\" alt=\"Open In Colab\"/></a>"
      ]
    },
    {
      "source": [
        "#Exemplo de agregação em POO\n",
        "\n",
        "class Cliente:\n",
        "    def __init__(self, cpf, nome, endereco):\n",
        "        self.cpf = cpf\n",
        "        self.nome = nome\n",
        "        self.endereco = endereco\n",
        "\n",
        "class Conta:\n",
        "    def __init__(self, clientes, numero, saldo):\n",
        "        self.clientes = clientes\n",
        "        self.numero = numero\n",
        "        self.saldo = saldo\n",
        "        self.saldo = saldo\n",
        "\n",
        "    def depositar(self, valor):\n",
        "        self.saldo += valor\n",
        "\n",
        "    def sacar(self,valor):\n",
        "        if self.saldo < valor:\n",
        "            return False\n",
        "        else:\n",
        "            self.saldo -= valor\n",
        "            return True\n",
        "\n",
        "    def transfereValor(self,contaDestino,valor):\n",
        "        if self.saldo < valor:\n",
        "            return (\"Não existe saldo suficiente\")\n",
        "        else:\n",
        "            contadestino.depositar(valor)\n",
        "            self.saldo -= valor\n",
        "\n",
        "    def transferir(self, valor, destino):\n",
        "        if self.saldo >= valor:\n",
        "            self.saldo -= valor\n",
        "            destino.saldo += valor\n",
        "            return \"Transferência realizada\"\n",
        "        else:\n",
        "            return \"Saldo insuficiente\"\n",
        "    def transferir(self, valor, destino):\n",
        "        if self.saldo >= valor:\n",
        "            self.saldo -= valor\n",
        "            destino.saldo += valor\n",
        "            return \"Transferência realizada\"\n",
        "        else:\n",
        "            return \"Saldo insuficiente\"\n",
        "\n",
        "    def gerarsaldo(self):\n",
        "        print(f\"Número: {self.numero}\\nSaldo: {self.saldo}\")\n",
        "\n",
        "\n",
        "cliente1 = Cliente(123, \"Joao\", \"Rua 1\")\n",
        "cliente2 = Cliente(345, \"Maria\",\"Rua 2\")\n",
        "cliente3 = Cliente(222, \"Fulano\", \"Rua 4\")\n",
        "cliente4 = Cliente(335, \"Ciclana\",\"Rua 3\")\n",
        "conta1 = Conta([cliente1,cliente2], 1,0)\n",
        "conta1.gerarsaldo()\n",
        "conta1.depositar(1500)\n",
        "conta1.sacar(500)\n",
        "conta1.gerarsaldo()\n",
        "\n",
        "print(\"Cliente3: \",cliente3.nome, \"- Endereço: \",cliente3.endereco)\n",
        "print(\"Cliente4: \",cliente4.nome, \"- Endereço: \",cliente4.endereco)"
      ],
      "cell_type": "code",
      "metadata": {
        "colab": {
          "base_uri": "https://localhost:8080/"
        },
        "id": "DghGmZY4eGfC",
        "outputId": "4e4fef9e-5576-4134-d013-4fda5ca2206c"
      },
      "execution_count": 14,
      "outputs": [
        {
          "output_type": "stream",
          "name": "stdout",
          "text": [
            "Número: 1\n",
            "Saldo: 0\n",
            "Número: 1\n",
            "Saldo: 1000\n",
            "Cliente3:  Fulano - Endereço:  Rua 4\n",
            "Cliente4:  Ciclana - Endereço:  Rua 3\n"
          ]
        }
      ]
    },
    {
      "cell_type": "code",
      "source": [
        "#Exemplo de Polimorfismo\n",
        "class Argentina():\n",
        "  def capital(self):\n",
        "    print(\"Buenos Aires é a capital da Argentina.\")\n",
        "  def lingua_oficial(self):\n",
        "    print(\"Espanhol é a lingua oficial da Argentina.\")\n",
        "class Brasil():\n",
        "  def capital(self):\n",
        "    print(\"Brasilia é a capital do Brasil.\")\n",
        "  def lingua_oficial(self):\n",
        "    print(\"Português é a lingua oficial do Brasil.\")\n",
        "\n",
        "obj_arg = Argentina()\n",
        "obj_bra = Brasil()\n",
        "\n",
        "for pais in (obj_arg, obj_bra):\n",
        "  pais.capital()\n",
        "  pais.lingua_oficial()\n",
        ""
      ],
      "metadata": {
        "colab": {
          "base_uri": "https://localhost:8080/"
        },
        "id": "mC4gV2W5st96",
        "outputId": "d0c76bc2-4d3f-4501-f069-e175bbde644f"
      },
      "execution_count": 15,
      "outputs": [
        {
          "output_type": "stream",
          "name": "stdout",
          "text": [
            "Buenos Aires é a capital da Argentina.\n",
            "Espanhol é a lingua oficial da Argentina.\n",
            "Brasilia é a capital do Brasil.\n",
            "Português é a lingua oficial do Brasil.\n"
          ]
        }
      ]
    },
    {
      "cell_type": "code",
      "source": [
        "#Exemplo de Herança\n",
        "\n",
        "class ClasseSomaMultiplica:\n",
        "  def __init__(self, a, b):\n",
        "    self.a = a\n",
        "    self.b = b\n",
        "  def somar(self):\n",
        "    return self.a + self.b\n",
        "  def multiplicar(self):\n",
        "    return self.a * self.b\n",
        "\n",
        "class Derivada(ClasseSomaMultiplica):\n",
        "  def subtrair(self):\n",
        "    return self.a - self.b;\n",
        "  def dividir(self):\n",
        "    return self.a / self.b;\n",
        "\n",
        "d = Derivada(30, 20)\n",
        "print(\"A soma de 30 + 20 é = \",d.somar())\n",
        "print(\"A subtração de 30 - 20 é = \",d.subtrair())\n",
        "print(\"A multiplicação de 30 x 20 é = \",d.multiplicar())\n",
        "print(\"A divisão de 30 / 20 é = \",d.dividir())"
      ],
      "metadata": {
        "colab": {
          "base_uri": "https://localhost:8080/"
        },
        "id": "vNVxpd1KuENM",
        "outputId": "5fba7a48-fe40-4a0c-f3d8-05ef5d37ba66"
      },
      "execution_count": 20,
      "outputs": [
        {
          "output_type": "stream",
          "name": "stdout",
          "text": [
            "A soma de 30 + 20 é =  50\n",
            "A subtração de 30 - 20 é =  10\n",
            "A multiplicação de 30 x 20 é =  600\n",
            "A divisão de 30 / 20 é =  1.5\n"
          ]
        }
      ]
    }
  ]
}