{
  "nbformat": 4,
  "nbformat_minor": 0,
  "metadata": {
    "colab": {
      "provenance": [],
      "authorship_tag": "ABX9TyMJBs13oXjNvNuEafDlRHIa",
      "include_colab_link": true
    },
    "kernelspec": {
      "name": "python3",
      "display_name": "Python 3"
    },
    "language_info": {
      "name": "python"
    }
  },
  "cells": [
    {
      "cell_type": "markdown",
      "metadata": {
        "id": "view-in-github",
        "colab_type": "text"
      },
      "source": [
        "<a href=\"https://colab.research.google.com/github/felipelimars/poo-python/blob/main/functions_python.ipynb\" target=\"_parent\"><img src=\"https://colab.research.google.com/assets/colab-badge.svg\" alt=\"Open In Colab\"/></a>"
      ]
    },
    {
      "cell_type": "code",
      "execution_count": 8,
      "metadata": {
        "colab": {
          "base_uri": "https://localhost:8080/"
        },
        "id": "jIsqcN_p6s7a",
        "outputId": "b575e286-a23f-40cc-9bd7-062abc780f10"
      },
      "outputs": [
        {
          "output_type": "stream",
          "name": "stdout",
          "text": [
            "3\n",
            "Resultado 60\n",
            "Resultado 180\n"
          ]
        }
      ],
      "source": [
        "# Programação funcional\n",
        "# Funções puras #\n",
        "# As funções puras e dados imutáveis buscam evitar os efeitos indesejáveis\n",
        "\n",
        "# script funcao1.py\n",
        "valor = 20\n",
        "\n",
        "def multiplica(fator):\n",
        "    global valor\n",
        "    valor = valor * fator\n",
        "    print(\"Resultado\", valor)\n",
        "\n",
        "def main():\n",
        "    numero =int(input())\n",
        "    multiplica(numero)\n",
        "    multiplica(numero)\n",
        "\n",
        "# Quando um script python é executado, a variável reservada\n",
        "# NAME referente a ele tem valor igual à \"__main__\".\n",
        "# Nesse caso, a condição do IF a seguir será TRUE,\n",
        "# então o que está no corpo do IF será executado.\n",
        "# No caso, é um chamado ao método main do script\n",
        "\n",
        "if __name__ == \"__main__\":\n",
        "    main()"
      ]
    },
    {
      "cell_type": "code",
      "source": [
        "# script funcao2.py\n",
        "valor = 20\n",
        "\n",
        "def multiplica(valor, fator):\n",
        "    valor = valor * fator\n",
        "    return valor\n",
        "\n",
        "def main():\n",
        "    numero = int(input())\n",
        "    print(\"Resultado\", multiplica(valor, numero))\n",
        "    print(\"Resultado\", multiplica(valor, numero))\n",
        "\n",
        "if __name__ == \"__main__\":\n",
        "    main()"
      ],
      "metadata": {
        "colab": {
          "base_uri": "https://localhost:8080/"
        },
        "id": "2tkv-yef7Z1d",
        "outputId": "c01c864a-e495-404e-aad7-54d36a9e73d2"
      },
      "execution_count": 7,
      "outputs": [
        {
          "output_type": "stream",
          "name": "stdout",
          "text": [
            "3\n",
            "Resultado 60\n",
            "Resultado 60\n"
          ]
        }
      ]
    },
    {
      "cell_type": "code",
      "source": [
        "# Dados imutáveis #\n",
        "\n",
        "# script funcao3.py\n",
        "# captando os valores do campo Input: 3, 2, 4\n",
        "valores = input()\n",
        "# separando os valores pelo espaço em branco e\n",
        "# transformando-os em uma lista de inteiros\n",
        "valores = [int(i) for i in valores.split()]\n",
        "\n",
        "def altera_lista(lista):\n",
        "    lista[2] = lista[2] + 10\n",
        "    return lista\n",
        "\n",
        "def main():\n",
        "    print(\"Nova lista\", altera_lista(valores))\n",
        "    print(\"Nova lista\", altera_lista(valores))\n",
        "\n",
        "if __name__ == \"__main__\":\n",
        "    main()"
      ],
      "metadata": {
        "colab": {
          "base_uri": "https://localhost:8080/"
        },
        "id": "PqwAPokm8VoN",
        "outputId": "50de06de-faa1-4ef8-b369-e6dd346a6127"
      },
      "execution_count": 6,
      "outputs": [
        {
          "output_type": "stream",
          "name": "stdout",
          "text": [
            "3 2 4\n",
            "Nova lista [3, 2, 14]\n",
            "Nova lista [3, 2, 24]\n"
          ]
        }
      ]
    },
    {
      "cell_type": "code",
      "source": [
        "# script funcao4.py\n",
        "\n",
        "# captando os valores do campo Input\n",
        "\n",
        "valores = input()\n",
        "\n",
        "# separando os valores pelo espaço em branco e\n",
        "# transformando-os em uma lista de inteiros\n",
        "\n",
        "valores = [int(i) for i in valores.split()]\n",
        "\n",
        "def altera_lista(lista):\n",
        "    nova_lista = list(lista)\n",
        "    nova_lista[2] = nova_lista[2] + 10\n",
        "    return lista\n",
        "\n",
        "def main():\n",
        "        print(\"Nova lista\", altera_lista(valores))\n",
        "\n",
        "        print(\"Nova lista\", altera_lista(valores))\n",
        "\n",
        "if __name__ == \"__main__\":\n",
        "        main()"
      ],
      "metadata": {
        "colab": {
          "base_uri": "https://localhost:8080/"
        },
        "id": "jM4qFNCo8usH",
        "outputId": "e38dca9d-1e40-4ace-95ef-70d4bf1746d4"
      },
      "execution_count": 5,
      "outputs": [
        {
          "output_type": "stream",
          "name": "stdout",
          "text": [
            "2 3 4\n",
            "Nova lista [2, 3, 4]\n",
            "Nova lista [2, 3, 4]\n"
          ]
        }
      ]
    },
    {
      "cell_type": "code",
      "source": [
        " # funções de ordem superior (higher order function).\n",
        "\n",
        " # script funcao5.py\n",
        "def multiplicar_por(multiplicador):\n",
        "    def multi(multiplicando):\n",
        "        return multiplicando * multiplicador\n",
        "    return multi\n",
        "\n",
        "def main():\n",
        "    multiplicar_por_10 = multiplicar_por(10)\n",
        "    print(multiplicar_por_10(1))\n",
        "    print(multiplicar_por_10(2))\n",
        "\n",
        "    multiplicar_por_5 = multiplicar_por(5)\n",
        "    print(multiplicar_por_5(1))\n",
        "    print(multiplicar_por_5(2))\n",
        "\n",
        "if __name__ == \"__main__\":\n",
        "    main()"
      ],
      "metadata": {
        "colab": {
          "base_uri": "https://localhost:8080/"
        },
        "id": "Q65CFRobfjOS",
        "outputId": "78c5fe00-14f6-4156-99f5-147da2a206dd"
      },
      "execution_count": 4,
      "outputs": [
        {
          "output_type": "stream",
          "name": "stdout",
          "text": [
            "10\n",
            "20\n",
            "5\n",
            "10\n"
          ]
        },
        {
          "output_type": "execute_result",
          "data": {
            "text/plain": [
              "10"
            ]
          },
          "metadata": {},
          "execution_count": 4
        }
      ]
    },
    {
      "cell_type": "code",
      "source": [
        "#Funções lambda (anonima)\n",
        "\n",
        "#Considere a função para multiplicar dois números a seguir:\n",
        "\n",
        "def multiplicar(a, b):\n",
        "\n",
        "return a*b\n",
        "\n",
        "#A função lambda equivalente é:\n",
        "\n",
        "multiplicador = lambda a, b: a*b\n",
        "\n",
        "print (multiplicador(2, 3))"
      ],
      "metadata": {
        "colab": {
          "base_uri": "https://localhost:8080/"
        },
        "id": "Zm8bIZQIi003",
        "outputId": "fa7c7902-4070-41f1-8989-30b6aecce70c"
      },
      "execution_count": 3,
      "outputs": [
        {
          "output_type": "stream",
          "name": "stdout",
          "text": [
            "6\n"
          ]
        }
      ]
    },
    {
      "cell_type": "code",
      "source": [
        "''' Boa prática de programação\n",
        "Não utilizar loops '''\n",
        "\n",
        "#Maps\n",
        "\n",
        "# script funcao_iterable.py\n",
        "lista = [1, 2, 3, 4, 5]\n",
        "\n",
        "def triplica_itens(iterable):\n",
        "    lista_aux = []\n",
        "    for item in iterable:\n",
        "        lista_aux.append(item*3)\n",
        "    return lista_aux\n",
        "\n",
        "def main():\n",
        "    nova_lista = triplica_itens(lista)\n",
        "    print(nova_lista)\n",
        "\n",
        "if __name__ == \"__main__\":\n",
        "    main()"
      ],
      "metadata": {
        "colab": {
          "base_uri": "https://localhost:8080/"
        },
        "id": "77TZVwl0nLWv",
        "outputId": "edea4ae2-22e4-4427-d4c7-ea609dd7cd34"
      },
      "execution_count": 9,
      "outputs": [
        {
          "output_type": "stream",
          "name": "stdout",
          "text": [
            "[3, 6, 9, 12, 15]\n"
          ]
        }
      ]
    },
    {
      "cell_type": "code",
      "source": [
        "# script funcao_map.py\n",
        "lista = [1, 2, 3, 4, 5]\n",
        "\n",
        "def triplica(item):\n",
        "    return item * 3\n",
        "\n",
        "def main():\n",
        "    nova_lista = map(triplica, lista)\n",
        "    print(list(nova_lista))\n",
        "\n",
        "if __name__ == \"__main__\":\n",
        "    main()"
      ],
      "metadata": {
        "colab": {
          "base_uri": "https://localhost:8080/"
        },
        "id": "tIHkijlJovin",
        "outputId": "9f013b66-8858-4928-d39b-e9aec9b34277"
      },
      "execution_count": 10,
      "outputs": [
        {
          "output_type": "stream",
          "name": "stdout",
          "text": [
            "[3, 6, 9, 12, 15]\n"
          ]
        }
      ]
    },
    {
      "cell_type": "code",
      "source": [
        "# script funcao_map_lambda.py\n",
        "lista = [1, 2, 3, 4, 5]\n",
        "\n",
        "nova_lista = map(lambda item: item * 3, lista)# função lambda\n",
        "\n",
        "def main():\n",
        "    print(list(nova_lista))\n",
        "\n",
        "if __name__ == \"__main__\":\n",
        "    main()"
      ],
      "metadata": {
        "colab": {
          "base_uri": "https://localhost:8080/"
        },
        "id": "3W68ZW2ro9Rm",
        "outputId": "009ba561-55b6-4ff6-c64b-f564d808a4da"
      },
      "execution_count": 11,
      "outputs": [
        {
          "output_type": "stream",
          "name": "stdout",
          "text": [
            "[3, 6, 9, 12, 15]\n"
          ]
        }
      ]
    },
    {
      "cell_type": "code",
      "source": [
        "# script funcao_filter.py\n",
        "lista = [1, 2, 3, 4, 5]\n",
        "\n",
        "def impar(item):\n",
        "    return item % 2 != 0\n",
        "\n",
        "def main():\n",
        "    nova_lista = filter(impar, lista)\n",
        "    print(list(nova_lista))\n",
        "\n",
        "if __name__ == \"__main__\":\n",
        "    main()"
      ],
      "metadata": {
        "id": "MoOCcvcYpgA-"
      },
      "execution_count": null,
      "outputs": []
    },
    {
      "cell_type": "code",
      "source": [
        "# script funcao_filter_lambda.py\n",
        "lista = [1, 2, 3, 4, 5]\n",
        "\n",
        "nova_lista = filter(lambda item: item % 2 != 0, lista)\n",
        "\n",
        "def main():\n",
        "    print(list(nova_lista))\n",
        "\n",
        "if __name__ == \"__main__\":\n",
        "    main()"
      ],
      "metadata": {
        "id": "nOs5-FMXpshG"
      },
      "execution_count": null,
      "outputs": []
    },
    {
      "cell_type": "code",
      "source": [
        "Exercícios:\n",
        "\n",
        "#1 transformar itens da lista para letras maiusculas\n",
        "\n",
        "veiculos = [\"carro\", \"onibus\", \"caminhao\", \"navio\", \"aviao\"]\n",
        "\n",
        "def transformaEmMaiusculo(item):\n",
        "     return item.upper()\n",
        "\n",
        "def main():\n",
        "    nova_lista = map(transformaEmMaiusculo, veiculos)\n",
        "    print(list(nova_lista))\n",
        "\n",
        "if __name__ == \"__main__\":\n",
        "    main()\n"
      ],
      "metadata": {
        "colab": {
          "base_uri": "https://localhost:8080/"
        },
        "id": "tJxRa7ptrwVO",
        "outputId": "9d368d34-eacd-4e58-ad43-58da252981f3"
      },
      "execution_count": 14,
      "outputs": [
        {
          "output_type": "stream",
          "name": "stdout",
          "text": [
            "['CARRO', 'ONIBUS', 'CAMINHAO', 'NAVIO', 'AVIAO']\n"
          ]
        }
      ]
    },
    {
      "cell_type": "code",
      "source": [
        "#2 encontrar números pares\n",
        "\n",
        "lista = [2, 11, 122, 3, 44, 8, 88, 1]\n",
        "\n",
        "def encontraNumeroPar(item):\n",
        "    return item % 2 == 0\n",
        "\n",
        "def main():\n",
        "  nova_lista_filtrada = filter(encontraNumeroPar, lista)\n",
        "  print(list(nova_lista_filtrada))\n",
        "\n",
        "if __name__ == \"__main__\":\n",
        "    main()"
      ],
      "metadata": {
        "colab": {
          "base_uri": "https://localhost:8080/"
        },
        "id": "_dN-6eJ7us7G",
        "outputId": "50e83869-74cf-40e3-86a0-76cd4ef4bbf4"
      },
      "execution_count": 26,
      "outputs": [
        {
          "output_type": "stream",
          "name": "stdout",
          "text": [
            "[2, 122, 44, 8, 88]\n"
          ]
        }
      ]
    },
    {
      "cell_type": "code",
      "source": [
        "# Somar todos os números da lista\n",
        "\n",
        "from functools import reduce\n",
        "\n",
        "numeros = [2, 11, 122, 3, 44, 8, 88, 1]\n",
        "\n",
        "f_soma = lambda x,y: x + y\n",
        "\n",
        "resultado = reduce(f_soma, numeros)\n",
        "\n",
        "print(resultado)\n",
        "\n"
      ],
      "metadata": {
        "colab": {
          "base_uri": "https://localhost:8080/"
        },
        "id": "FmlQd88Yxive",
        "outputId": "64443862-3846-430c-b3d7-3b3a67f5eadc"
      },
      "execution_count": 43,
      "outputs": [
        {
          "output_type": "stream",
          "name": "stdout",
          "text": [
            "279\n"
          ]
        }
      ]
    }
  ]
}