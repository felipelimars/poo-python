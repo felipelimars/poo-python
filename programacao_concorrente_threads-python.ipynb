{
  "nbformat": 4,
  "nbformat_minor": 0,
  "metadata": {
    "colab": {
      "provenance": [],
      "authorship_tag": "ABX9TyMaB2oX6eMRv2YJTR5xIaCA",
      "include_colab_link": true
    },
    "kernelspec": {
      "name": "python3",
      "display_name": "Python 3"
    },
    "language_info": {
      "name": "python"
    }
  },
  "cells": [
    {
      "cell_type": "markdown",
      "metadata": {
        "id": "view-in-github",
        "colab_type": "text"
      },
      "source": [
        "<a href=\"https://colab.research.google.com/github/felipelimars/poo-python/blob/main/programacao_concorrente_threads-python.ipynb\" target=\"_parent\"><img src=\"https://colab.research.google.com/assets/colab-badge.svg\" alt=\"Open In Colab\"/></a>"
      ]
    },
    {
      "cell_type": "code",
      "execution_count": 11,
      "metadata": {
        "colab": {
          "base_uri": "https://localhost:8080/"
        },
        "id": "G0ukT_KxLseg",
        "outputId": "9e9af285-bf6e-4018-aad7-e34fa0a3c13e"
      },
      "outputs": [
        {
          "output_type": "stream",
          "name": "stdout",
          "text": [
            "\n",
            "Iniciando a tarefa Thread em execução\n",
            "Aguardando pela execução da Thread\n",
            "\n",
            "Conclusão da tarefa Thread em execução\n",
            "A execução foi concluída!\n"
          ]
        }
      ],
      "source": [
        "#Programação Concorrente Python\n",
        "\n",
        "#Threads\n",
        "#1\n",
        "from time import sleep\n",
        "from threading import Thread\n",
        "def tarefa(tempo_espera, mensagem):\n",
        "    print(f'\\nIniciando a tarefa {mensagem}')\n",
        "    sleep(tempo_espera)\n",
        "    print(f'Conclusão da tarefa {mensagem}')\n",
        "thread = Thread(target=tarefa, args=(2, 'Thread em execução'))\n",
        "thread.start()\n",
        "print('\\nAguardando pela execução da Thread')\n",
        "thread.join()\n",
        "print(\"A execução foi concluída!\")"
      ]
    },
    {
      "cell_type": "code",
      "source": [
        "#2\n",
        "from time import sleep\n",
        "from threading import Thread\n",
        "def tarefa(tempo_espera, mensagem):\n",
        "    print(f'\\nIniciando a tarefa {mensagem}')\n",
        "    sleep(tempo_espera)\n",
        "    print(f'Conclusão da tarefa {mensagem}')\n",
        "t1 = Thread(target=tarefa, args=(3, 'A'))\n",
        "t2 = Thread(target=tarefa, args=(2, 'B'))\n",
        "t1.start()\n",
        "t2.start()\n",
        "t1.join()\n",
        "t2.join()\n",
        "print(\"A execução foi concluída\")"
      ],
      "metadata": {
        "colab": {
          "base_uri": "https://localhost:8080/"
        },
        "id": "CxdUs_tQNHDM",
        "outputId": "7ed29c61-a7ec-481b-b1b3-cf1062a2596d"
      },
      "execution_count": 12,
      "outputs": [
        {
          "output_type": "stream",
          "name": "stdout",
          "text": [
            "\n",
            "Iniciando a tarefa A\n",
            "\n",
            "Iniciando a tarefa B\n",
            "Conclusão da tarefa B\n",
            "Conclusão da tarefa A\n",
            "A execução foi concluída\n"
          ]
        }
      ]
    },
    {
      "cell_type": "code",
      "source": [
        "#3\n",
        "\n",
        "from time import sleep\n",
        "from threading import Thread\n",
        "\n",
        "def calcular_cubo(num, tempo_espera):\n",
        "    print(f\"\\nCubo: {num * num * num}\")\n",
        "    sleep(tempo_espera)\n",
        "    print('Conclusão da função calcular_cubo')\n",
        "\n",
        "def calcular_quadrado(num, tempo_espera):\n",
        "    print(f\"\\nQuadrado: {num * num}\")\n",
        "    sleep(tempo_espera)\n",
        "    print('Conclusão da função calcular_quadrado')\n",
        "\n",
        "t1 = Thread(target=calcular_quadrado, args=(5,3))\n",
        "t2 = Thread(target=calcular_cubo, args=(5,2))\n",
        "t1.start()\n",
        "t2.start()\n",
        "t1.join()\n",
        "t2.join()\n",
        "print(\"A execução foi concluída!\")\n"
      ],
      "metadata": {
        "colab": {
          "base_uri": "https://localhost:8080/"
        },
        "id": "CKxiadUaOcYE",
        "outputId": "f7aed5be-e00c-4a84-9b1c-84954784e6f3"
      },
      "execution_count": 15,
      "outputs": [
        {
          "output_type": "stream",
          "name": "stdout",
          "text": [
            "\n",
            "Quadrado: 25\n",
            "\n",
            "Cubo: 125\n",
            "Conclusão da função calcular_cubo\n",
            "Conclusão da função calcular_quadrado\n",
            "A execução foi concluída!\n"
          ]
        }
      ]
    },
    {
      "cell_type": "code",
      "source": [],
      "metadata": {
        "id": "ZP--LI6eQUHi"
      },
      "execution_count": null,
      "outputs": []
    }
  ]
}