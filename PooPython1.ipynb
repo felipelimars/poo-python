{
  "nbformat": 4,
  "nbformat_minor": 0,
  "metadata": {
    "colab": {
      "provenance": [],
      "authorship_tag": "ABX9TyMdZawVsZT5CW+27rRF03Bq",
      "include_colab_link": true
    },
    "kernelspec": {
      "name": "python3",
      "display_name": "Python 3"
    },
    "language_info": {
      "name": "python"
    }
  },
  "cells": [
    {
      "cell_type": "markdown",
      "metadata": {
        "id": "view-in-github",
        "colab_type": "text"
      },
      "source": [
        "<a href=\"https://colab.research.google.com/github/felipelimars/poo-python/blob/main/PooPython1.ipynb\" target=\"_parent\"><img src=\"https://colab.research.google.com/assets/colab-badge.svg\" alt=\"Open In Colab\"/></a>"
      ]
    },
    {
      "cell_type": "code",
      "execution_count": null,
      "metadata": {
        "colab": {
          "base_uri": "https://localhost:8080/"
        },
        "id": "TTZeCxNDJYyr",
        "outputId": "545f1cdd-7af1-41d4-8de1-4a20118c2639"
      },
      "outputs": [
        {
          "output_type": "stream",
          "name": "stdout",
          "text": [
            "Nome: Maria, Endereço: Rua 1, 123\n",
            "Nome: João, Endereço: Rua 2, 456\n"
          ]
        }
      ],
      "source": [
        "#POO PYTHON\n",
        "#CRIANDO CLASSE E OBJETO\n",
        "\n",
        "class Pessoa:\n",
        "    def __init__(self, nome, ender):\n",
        "        self.set_nome(nome)\n",
        "        self.set_ender(ender)\n",
        "\n",
        "    def set_nome(self, nome):\n",
        "        self.nome = nome\n",
        "\n",
        "    def set_ender(self, ender):\n",
        "        self.ender = ender\n",
        "\n",
        "    def get_nome(self):\n",
        "        return self.nome\n",
        "\n",
        "    def get_ender(self):\n",
        "        return self.ender\n",
        "\n",
        "Pessoa1 = Pessoa(\"Maria\",\"Rua 1, 123\")\n",
        "Pessoa2 = Pessoa(\"João\",\"Rua 2, 456\")\n",
        "\n",
        "print(f'Nome: {Pessoa1.get_nome()}, Endereço: {Pessoa1.get_ender()}')\n",
        "print(f'Nome: {Pessoa2.get_nome()}, Endereço: {Pessoa2.get_ender()}')"
      ]
    },
    {
      "cell_type": "code",
      "source": [
        "#POO PYTHON\n",
        "#AGRECAÇÃO\n",
        "\n",
        "#Classe Salário\n",
        "\n",
        "class Salario:\n",
        "    def __init__(self, base, bonus):\n",
        "        self.base = base\n",
        "        self.bonus = bonus\n",
        "\n",
        "    def salario_anual(self):\n",
        "        return (self.base*12)+self.bonus\n",
        "\n",
        "#Classe Empregado\n",
        "\n",
        "class Empregado:\n",
        "    def __init__(self, nome, idade, salario):\n",
        "        self.nome = nome\n",
        "        self.idade = idade\n",
        "        self.salario_agregado = salario # Agregação\n",
        "\n",
        "    def salario_total(self):\n",
        "      return self.salario_agregado.salario_anual()\n",
        "\n",
        "salario = Salario(10000, 700)\n",
        "emp = Empregado('Fulano', 40, salario)\n",
        "print(emp.salario_total())\n"
      ],
      "metadata": {
        "colab": {
          "base_uri": "https://localhost:8080/"
        },
        "id": "kcqMT8feYVRu",
        "outputId": "c158534d-ed40-4b14-efb2-a016a0dc9de1"
      },
      "execution_count": null,
      "outputs": [
        {
          "output_type": "stream",
          "name": "stdout",
          "text": [
            "120700\n"
          ]
        }
      ]
    },
    {
      "cell_type": "code",
      "source": [
        "#Metodo de classe x Metodo Estático\n",
        "\n",
        "from datetime import date\n",
        "class Pessoa:\n",
        "    def __init__(self, nome, idade):\n",
        "        self.nome = nome\n",
        "        self.idade = idade\n",
        "    # Um método de classe para criar um objeto Pessoa através do ano de nascimento.\n",
        "    @classmethod\n",
        "    def apartirAnoNascimento(cls, nome, ano):\n",
        "      return cls(nome, date.today().year - ano)\n",
        "    # Método Estático: verificar se é maior de idade.\n",
        "    @staticmethod\n",
        "    def ehMaiorIdade(idade):\n",
        "      return idade >= 18\n",
        "\n",
        "pessoa1 = Pessoa('maria', 26)\n",
        "pessoa2 = Pessoa.apartirAnoNascimento('ana', 2006)\n",
        "print(pessoa1.idade)\n",
        "print(pessoa2.idade)\n",
        "#imprimir o resultado\n",
        "print(Pessoa.ehMaiorIdade(17))\n"
      ],
      "metadata": {
        "colab": {
          "base_uri": "https://localhost:8080/"
        },
        "id": "-ZL-xCSVem7p",
        "outputId": "203934b1-b7f0-4c92-9798-85af2ecb9d27"
      },
      "execution_count": null,
      "outputs": [
        {
          "output_type": "stream",
          "name": "stdout",
          "text": [
            "26\n",
            "18\n",
            "False\n"
          ]
        }
      ]
    },
    {
      "cell_type": "code",
      "source": [
        "class Conta():\n",
        "    def __init__(self, numero, cpf, nomeTitular, saldo):\n",
        "        self.numero = numero\n",
        "        self.cpf = cpf\n",
        "        self.nomeTitular = nomeTitular\n",
        "        self.saldo = saldo\n",
        "\n",
        "    def depositar(self, valor):\n",
        "        self.saldo += valor\n",
        "\n",
        "    def sacar(self,valor):\n",
        "        if self.saldo < valor:\n",
        "            return False\n",
        "        else:\n",
        "            self.saldo -= valor\n",
        "            return True\n",
        "\n",
        "    def gerar_extrato(self):\n",
        "        print(f\"numero: {self.numero}\\n cpf: {self.cpf}\\nsaldo: {self.saldo}\")\n",
        "\n",
        "def main():\n",
        "    c1 = Conta(1,1,\"Joao\",0)\n",
        "    c1.depositar(300)\n",
        "    saque = c1.sacar(400)\n",
        "    c1.gerar_extrato()\n",
        "    print(f\"O saque foi realizado? {saque}\")\n",
        "\n",
        "\n",
        "if __name__ == \"__main__\":\n",
        "    main()"
      ],
      "metadata": {
        "colab": {
          "base_uri": "https://localhost:8080/"
        },
        "id": "nuJh4mYSevz-",
        "outputId": "b2f3770e-c135-4b62-bca7-1476ed28ebe3"
      },
      "execution_count": null,
      "outputs": [
        {
          "output_type": "stream",
          "name": "stdout",
          "text": [
            "numero: 1\n",
            " cpf: 1\n",
            "saldo: 300\n",
            "O saque foi realizado? False\n"
          ]
        }
      ]
    }
  ]
}